{
 "cells": [
  {
   "cell_type": "markdown",
   "metadata": {
    "colab_type": "text",
    "id": "1dhTbeJMUQ7R"
   },
   "source": [
    "THE BELOW CODE IS FOR PLAYING TIC TAC TOE (NON GUI)\n",
    "IN THIS ONCE ALL PLAYS ARE PLAYED THE RESULTS ARE ANNOUNCED!! AT A TIME ITSELF..\n",
    "\n"
   ]
  },
  {
   "cell_type": "code",
   "execution_count": null,
   "metadata": {
    "colab": {},
    "colab_type": "code",
    "id": "vcZRhUvm5eeg"
   },
   "outputs": [
    {
     "name": "stdout",
     "output_type": "stream",
     "text": [
      "------W_E_L_C_O_M_E---- T_O----T_I_C --T_A_C---T_O_E---GAME!!!! \n",
      "Player 1 plays first!!!\n",
      "Player 1 TURN!!!....  7\n",
      "\n",
      "   X  |      |    \n",
      "--------------------\n",
      "      |      |    \n",
      "--------------------\n",
      "      |      |     \n",
      "\n",
      "Player 2 TURN!!!....  8\n",
      "\n",
      "   X  |   O  |    \n",
      "--------------------\n",
      "      |      |    \n",
      "--------------------\n",
      "      |      |     \n",
      "\n",
      "Player 1 TURN!!!....  9\n",
      "\n",
      "   X  |   O  |   X\n",
      "--------------------\n",
      "      |      |    \n",
      "--------------------\n",
      "      |      |     \n",
      "\n",
      "Player 2 TURN!!!....  4\n",
      "\n",
      "   X  |   O  |   X\n",
      "--------------------\n",
      "   O  |      |    \n",
      "--------------------\n",
      "      |      |     \n",
      "\n",
      "Player 1 TURN!!!....  5\n",
      "\n",
      "   X  |   O  |   X\n",
      "--------------------\n",
      "   O  |   X  |    \n",
      "--------------------\n",
      "      |      |     \n",
      "\n",
      "Player 2 TURN!!!....  6\n",
      "\n",
      "   X  |   O  |   X\n",
      "--------------------\n",
      "   O  |   X  |   O\n",
      "--------------------\n",
      "      |      |     \n",
      "\n",
      "Player 1 TURN!!!....  1\n",
      "\n",
      "   X  |   O  |   X\n",
      "--------------------\n",
      "   O  |   X  |   O\n",
      "--------------------\n",
      "   X  |      |     \n",
      "\n",
      "Player 2 TURN!!!....  2\n",
      "\n",
      "   X  |   O  |   X\n",
      "--------------------\n",
      "   O  |   X  |   O\n",
      "--------------------\n",
      "   X  |   O  |     \n",
      "\n",
      "Player 1 TURN!!!....  3\n",
      "\n",
      "   X  |   O  |   X\n",
      "--------------------\n",
      "   O  |   X  |   O\n",
      "--------------------\n",
      "   X  |   O  |   X \n",
      "\n",
      "Player 1 has won!! Congratulations!!!\n",
      " \n",
      " Player 2 better luck next : )\n",
      "\n",
      "1 . Wanna Play Again!!!\n",
      "2 . Or wanna quit\n",
      "\n"
     ]
    }
   ],
   "source": [
    "\n",
    "\n",
    "\n",
    "import random \n",
    "ran =['Player 1' , 'Player 2']\n",
    "lis = {7 :\" \",8:\" \",9:\" \",4:\" \",5:\" \",6:\" \",1:\" \",2:\" \",3:\" \"}\n",
    "def print_board(lis):\n",
    "    print(\"\\n\",\" \",lis[7],\" |\",\" \",lis[8],\" |\",\" \",lis[9])\n",
    "    print(\"--------------------\")\n",
    "    print(\"  \",lis[4],\" |\",\" \",lis[5],\" |\",\" \",lis[6])\n",
    "    print(\"--------------------\")\n",
    "    print(\"  \",lis[1],\" |\",\" \",lis[2],\" |\",\" \",lis[3],\"\\n\")\n",
    "    \n",
    " \n",
    "def marker(z):\n",
    "    global y \n",
    "    y = 0+z\n",
    "    global player \n",
    "    \n",
    "    if y %2 != 0:\n",
    "        mark = 'O'\n",
    "        player = int(input(str(ran[m])+\" TURN!!!....  \"))\n",
    "        while lis[player] == 'O'or lis[player] == 'X':\n",
    "            print(\"THAT IS OUT OF RULES PLAY AGAIN!!\\n\")\n",
    "            player = int(input(str(ran[m])+\" TURN!!!....  \"))\n",
    "    else:\n",
    "        mark = 'X'\n",
    "        player = int(input(str(ran[k])+\" TURN!!!....  \"))\n",
    "        while lis[player] == 'O'or lis[player] == 'X':\n",
    "            print(\"THAT IS OUT OF RULES PLAY AGAIN!!\\n\")\n",
    "            player = int(input(str(ran[k])+\" TURN!!!....  \"))\n",
    "    y+=1\n",
    "    \n",
    "    return mark      \n",
    " \n",
    "def assign(lis):\n",
    "    z=0\n",
    "    while True:\n",
    "        mark = marker(z)\n",
    "        z+=1\n",
    "        lis.update({player:mark})\n",
    "        if y == 9:\n",
    "            break\n",
    "        print_board(lis)  \n",
    "    \n",
    "def winner(lis):\n",
    "    global p1 ,p2\n",
    "    p1=p2=0\n",
    "    print_board(lis)\n",
    "    if lis[1] == lis[2] == lis[3] or lis[1] == lis[5] == lis[9] or lis[1] == lis[4] ==lis[7]:\n",
    "        if lis[1] =='X':\n",
    "            p1+=1\n",
    "        else:\n",
    "            p2+=1\n",
    "    if lis[9] == lis[8]==lis[7] or lis[9] == lis[6] ==lis[3]:\n",
    "        if lis[9] =='X':\n",
    "            p1+=1\n",
    "        else:\n",
    "            p2+=1\n",
    "    if lis[5] ==lis[3] ==lis[7] or lis[5] == lis[8] ==lis[2] or lis[5] == lis[6] == lis[4]:\n",
    "        if lis[5] =='X':\n",
    "            p1+=1\n",
    "        else:\n",
    "            p2+=1\n",
    "while True:\n",
    "    print(\"------W_E_L_C_O_M_E---- T_O----T_I_C --T_A_C---T_O_E---GAME!!!! \")\n",
    "    global k ,m\n",
    "    k = random.randint(0,1)\n",
    "    if k == 0:\n",
    "        m = 1\n",
    "    else:\n",
    "        m = 0\n",
    "    print(ran[k],\"plays first!!!\")\n",
    "    assign(lis)\n",
    "    winner(lis)            \n",
    "    if p1 > p2:\n",
    "        print(str(ran[k])+\" has won!! Congratulations!!!\\n \\n \"+str(ran[m])+\" better luck next : )\")\n",
    "    elif p1 ==p2:\n",
    "        print(\"There is a tie!!! \")\n",
    "    else:\n",
    "        print(str(ran[m])+\" has won!! Congratulations!!!\\n \\n \"+str(ran[k])+\" better luck next : )\")\n",
    "    print(\"\\n1 . Wanna Play Again!!!\")\n",
    "    print(\"2 . Or wanna quit\\n\")\n",
    "    lis.update({7 :\" \",8:\" \",9:\" \",4:\" \",5:\" \",6:\" \",1:\" \",2:\" \",3:\" \"})\n",
    "    if int(input()) == 2:\n",
    "        print(\"AM FEELING BAD THAT YOU ARE LEAVING SO SOON!! \\n ANYWAYS COME SOON DARLING....\")\n",
    "        break"
   ]
  },
  {
   "cell_type": "markdown",
   "metadata": {
    "colab_type": "text",
    "id": "7_sZ-NN-VyG7"
   },
   "source": []
  },
  {
   "cell_type": "code",
   "execution_count": 0,
   "metadata": {
    "colab": {},
    "colab_type": "code",
    "id": "tmCX6PEr4hbG"
   },
   "outputs": [],
   "source": [
    "file = open(\"fcs.txt\",'w')\n",
    " \n",
    "file.write(\"THis is the writing\")\n",
    " \n",
    "file.write(\"sdcsz\")\n",
    " \n",
    "file.close()"
   ]
  },
  {
   "cell_type": "code",
   "execution_count": 0,
   "metadata": {
    "colab": {
     "base_uri": "https://localhost:8080/",
     "height": 34
    },
    "colab_type": "code",
    "id": "D_LF2Aku5EaS",
    "outputId": "2ace50fa-41f9-4a28-a74a-5b85f3f954fd"
   },
   "outputs": [
    {
     "data": {
      "text/plain": [
       "<_io.TextIOWrapper name='fcs.txt' mode='w' encoding='UTF-8'>"
      ]
     },
     "execution_count": 3,
     "metadata": {
      "tags": []
     },
     "output_type": "execute_result"
    }
   ],
   "source": [
    "file"
   ]
  },
  {
   "cell_type": "code",
   "execution_count": 0,
   "metadata": {
    "colab": {
     "base_uri": "https://localhost:8080/",
     "height": 34
    },
    "colab_type": "code",
    "id": "cUAnO2-k5Edi",
    "outputId": "fcea869c-5443-4639-c973-e4bbe231f414"
   },
   "outputs": [
    {
     "name": "stdout",
     "output_type": "stream",
     "text": [
      "THis is the writingsdcsz\n"
     ]
    }
   ],
   "source": [
    "with open(\"fcs.txt\") as file:\n",
    "  data=file.readline()\n",
    "  print(data)"
   ]
  },
  {
   "cell_type": "code",
   "execution_count": 3,
   "metadata": {
    "colab": {
     "base_uri": "https://localhost:8080/",
     "height": 101
    },
    "colab_type": "code",
    "id": "lCQo8Sv_5eU7",
    "outputId": "2a3d62eb-8f17-4b0b-b233-b347ef32248e"
   },
   "outputs": [
    {
     "name": "stdout",
     "output_type": "stream",
     "text": [
      "     |      |    \n",
      "------------------\n",
      "     |      |    \n",
      "------------------\n",
      "     |      |    \n"
     ]
    }
   ],
   "source": [
    "lis = {7 :\" \",8:\" \",9:\" \",4:\" \",5:\" \",6:\" \",1:\" \",2:\" \",3:\" \"}\n",
    "def print_board():\n",
    "    print(\" \",lis[7],\" |\",\" \",lis[8],\" |\",\" \",lis[9])\n",
    "    print(\"------------------\")\n",
    "    print(\" \",lis[4],\" |\",\" \",lis[5],\" |\",\" \",lis[6])\n",
    "    print(\"------------------\")\n",
    "    print(\" \",lis[1],\" |\",\" \",lis[2],\" |\",\" \",lis[3])\n",
    "    \n",
    "print_board()   "
   ]
  },
  {
   "cell_type": "code",
   "execution_count": 0,
   "metadata": {
    "colab": {},
    "colab_type": "code",
    "id": "105qudsx5eY9"
   },
   "outputs": [],
   "source": [
    "def marker(z):\n",
    "    global y \n",
    "    y = 0+z\n",
    "    global player \n",
    "    player = int(input(\"Enter your position\")) # we need to provide position which is an integer\n",
    "    if y %2 != 0:\n",
    "        mark = 'O'   \n",
    "    else:\n",
    "        mark = 'X'\n",
    "    y+=1\n",
    "    \n",
    "    return mark  "
   ]
  },
  {
   "cell_type": "code",
   "execution_count": 0,
   "metadata": {
    "colab": {},
    "colab_type": "code",
    "id": "IUlT7Lmx5eap"
   },
   "outputs": [],
   "source": [
    " \n",
    "def winner(lis):\n",
    "    global p1 ,p2\n",
    "    p1=p2=0\n",
    "    print_board(lis)\n",
    "    if lis[1] == lis[2] == lis[3] or lis[1] == lis[5] == lis[9] or lis[1] == lis[4] ==lis[7]:\n",
    "        if lis[1] =='X':\n",
    "            p1+=1\n",
    "        else:\n",
    "            p2+=1\n",
    "    if lis[9] == lis[8]==lis[7] or lis[9] == lis[6] ==lis[3]:\n",
    "        if lis[9] =='X':\n",
    "            p1+=1\n",
    "        else:\n",
    "            p2+=1\n",
    "    if lis[5] ==lis[3] ==lis[7] or lis[5] == lis[8] ==lis[2] or lis[5] == lis[6] == lis[4]:\n",
    "        if lis[5] =='X':\n",
    "            p1+=1\n",
    "        else:\n",
    "            p2+=1\n",
    " \n",
    "winner(lis)            \n",
    "if p1 > p2:\n",
    "    print(\"Player1 has won!!\")\n",
    "elif p1 ==p2:\n",
    "    print(\"There is a tie!!!\")\n",
    "else:\n",
    "    print(\"Player2 has won!!\")"
   ]
  },
  {
   "cell_type": "code",
   "execution_count": 0,
   "metadata": {
    "colab": {},
    "colab_type": "code",
    "id": "Lp_n30l-5egL"
   },
   "outputs": [],
   "source": []
  },
  {
   "cell_type": "code",
   "execution_count": 0,
   "metadata": {
    "colab": {},
    "colab_type": "code",
    "id": "pdsuXqfZ5ekS"
   },
   "outputs": [],
   "source": [
    "dir(list)"
   ]
  },
  {
   "cell_type": "code",
   "execution_count": 0,
   "metadata": {
    "colab": {},
    "colab_type": "code",
    "id": "sRpOLcKf5emq"
   },
   "outputs": [],
   "source": []
  },
  {
   "cell_type": "code",
   "execution_count": 0,
   "metadata": {
    "colab": {},
    "colab_type": "code",
    "id": "8rBKnvyu5eps"
   },
   "outputs": [],
   "source": []
  },
  {
   "cell_type": "code",
   "execution_count": 0,
   "metadata": {
    "colab": {
     "base_uri": "https://localhost:8080/",
     "height": 50
    },
    "colab_type": "code",
    "id": "aW0YSw395ei3",
    "outputId": "eb7fcf88-6bfc-437a-dbd3-03993ed2c23c"
   },
   "outputs": [
    {
     "name": "stdout",
     "output_type": "stream",
     "text": [
      "1 1\n"
     ]
    },
    {
     "data": {
      "text/plain": [
       "int"
      ]
     },
     "execution_count": 10,
     "metadata": {
      "tags": []
     },
     "output_type": "execute_result"
    }
   ],
   "source": [
    "import random\n",
    "\n",
    "ran =['Player 1' , 'Player 2']\n",
    "\n",
    "k = random.randint(0,2)\n",
    "\n",
    "type(k)\n",
    "\n",
    "im= ran.index(\"Player 2\")\n",
    "\n",
    "print(k,im)\n",
    "type(k)\n"
   ]
  },
  {
   "cell_type": "code",
   "execution_count": 0,
   "metadata": {
    "colab": {},
    "colab_type": "code",
    "id": "sDiF42p95ec-"
   },
   "outputs": [],
   "source": []
  }
 ],
 "metadata": {
  "colab": {
   "name": "Day%5...ipynb",
   "provenance": []
  },
  "kernelspec": {
   "display_name": "Python 3",
   "language": "python",
   "name": "python3"
  },
  "language_info": {
   "codemirror_mode": {
    "name": "ipython",
    "version": 3
   },
   "file_extension": ".py",
   "mimetype": "text/x-python",
   "name": "python",
   "nbconvert_exporter": "python",
   "pygments_lexer": "ipython3",
   "version": "3.7.1"
  }
 },
 "nbformat": 4,
 "nbformat_minor": 1
}
